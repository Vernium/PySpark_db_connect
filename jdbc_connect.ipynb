{
 "cells": [
  {
   "cell_type": "markdown",
   "metadata": {},
   "source": [
    "# Connecting to external  databases\n",
    "**Note**:\n",
    "Please read the [README.md](./README.md). Otherwise you will miss a very important step.\n",
    "\n",
    "Remember to change the _url_ servertype to the the correct one you would like to connect to."
   ]
  },
  {
   "cell_type": "markdown",
   "metadata": {},
   "source": [
    "## Connecting to Postgres database\n",
    "- _url:_ 'jdbc:{servertype}://{ip}/{database name}'\n",
    "- _dbtable:_ Name of table you want to connect to\n",
    "- _user:_ Username to connect to the database\n",
    "- _password:_ User password"
   ]
  },
  {
   "cell_type": "code",
   "execution_count": 1,
   "metadata": {},
   "outputs": [],
   "source": [
    "df_postgresql = spark.read.format(\"jdbc\").options(\n",
    "        url=\"jdbc:postgresql://localhost/example\",\n",
    "        dbtable=\"customers\",\n",
    "        user=\"user\",\n",
    "        password=\"user123\"\n",
    "        ).load()"
   ]
  },
  {
   "cell_type": "code",
   "execution_count": 2,
   "metadata": {},
   "outputs": [
    {
     "name": "stdout",
     "output_type": "stream",
     "text": [
      "+---+------+-----+\n",
      "| id|  name|  pet|\n",
      "+---+------+-----+\n",
      "|  1|Koosie| true|\n",
      "|  2|   Jan|false|\n",
      "+---+------+-----+\n",
      "\n"
     ]
    }
   ],
   "source": [
    "df_postgresql.show()"
   ]
  },
  {
   "cell_type": "markdown",
   "metadata": {},
   "source": [
    "## Connecting to mysql database\n",
    "- ...\n",
    "- _customSchema:_ Is used to define the column type. (MySql does not have type boolean)"
   ]
  },
  {
   "cell_type": "code",
   "execution_count": 3,
   "metadata": {},
   "outputs": [],
   "source": [
    "df_mysql  = spark.read.format(\"jdbc\").options(\n",
    "                url=\"jdbc:mysql://localhost/example\",\n",
    "                dbtable=\"customers\",\n",
    "                user=\"user\",\n",
    "                password=\"User123!\",\n",
    "                customSchema=\"pet BOOLEAN\"\n",
    "            ).load()"
   ]
  },
  {
   "cell_type": "code",
   "execution_count": 4,
   "metadata": {},
   "outputs": [
    {
     "name": "stdout",
     "output_type": "stream",
     "text": [
      "+---+-----+-----+\n",
      "| id| name|  pet|\n",
      "+---+-----+-----+\n",
      "|  1|Sunny|false|\n",
      "|  2|Marie| true|\n",
      "|  3| Piet|false|\n",
      "+---+-----+-----+\n",
      "\n"
     ]
    }
   ],
   "source": [
    "df_mysql.show()"
   ]
  }
 ],
 "metadata": {
  "kernelspec": {
   "display_name": "Python 3",
   "language": "python",
   "name": "python3"
  },
  "language_info": {
   "codemirror_mode": {
    "name": "ipython",
    "version": 3
   },
   "file_extension": ".py",
   "mimetype": "text/x-python",
   "name": "python",
   "nbconvert_exporter": "python",
   "pygments_lexer": "ipython3",
   "version": "3.5.2"
  }
 },
 "nbformat": 4,
 "nbformat_minor": 2
}
